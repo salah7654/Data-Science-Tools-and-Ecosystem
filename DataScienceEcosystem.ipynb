{
  "metadata": {
    "kernelspec": {
      "name": "python",
      "display_name": "Python (Pyodide)",
      "language": "python"
    },
    "language_info": {
      "codemirror_mode": {
        "name": "python",
        "version": 3
      },
      "file_extension": ".py",
      "mimetype": "text/x-python",
      "name": "python",
      "nbconvert_exporter": "python",
      "pygments_lexer": "ipython3",
      "version": "3.8"
    }
  },
  "nbformat_minor": 5,
  "nbformat": 4,
  "cells": [
    {
      "id": "66032ffe-f05b-4336-b12d-c85ecc65c0ba",
      "cell_type": "markdown",
      "source": "# Data Science Tools and Ecosystem",
      "metadata": {}
    },
    {
      "id": "f996a271-57f9-42c3-8cc9-ad8aaad579f5",
      "cell_type": "markdown",
      "source": "Hello everyone! In this notebook, we are going to talk about Data Science Tools and Ecosystem.",
      "metadata": {}
    },
    {
      "id": "e87a06a2-828c-4511-aa43-50562fab66cb",
      "cell_type": "markdown",
      "source": "**Objectives:**\n* List popular languages\n* List popular libraries\n* Table of Data Science open source tools\n* simple arithmetic expressions ",
      "metadata": {}
    },
    {
      "id": "b48059ed-e1fb-4575-90d2-84ef52216a4c",
      "cell_type": "markdown",
      "source": "In Data Science, many languages are uses every day. Take a look at some of them:\n1. Python\n2. R language\n3. Java",
      "metadata": {}
    },
    {
      "id": "12e55503-93b1-48d7-9a17-a595ede272f5",
      "cell_type": "markdown",
      "source": "There are also some famous libraries in Data science like:\n1. ggplot\n2. datasets\n3. pandas",
      "metadata": {}
    },
    {
      "id": "5a4ec05b-2c82-4176-9ba2-bcfd8bf6f04f",
      "cell_type": "markdown",
      "source": "| Data Science Tools |\n|--------------------|\n| Jupyter |\n| Github |\n| Anaconda |",
      "metadata": {}
    },
    {
      "id": "dfff829b-8475-47ab-821d-0a6b9d27390f",
      "cell_type": "markdown",
      "source": "### Below are a few examples of evaluating arithmetic expressions in Python",
      "metadata": {}
    },
    {
      "id": "7e9f4d67-0c8f-4b17-a49e-e70ece806ede",
      "cell_type": "code",
      "source": "# here is a simple arithmetic expression to mutiply then add integers :\n(3*4)+5",
      "metadata": {
        "trusted": true
      },
      "outputs": [
        {
          "execution_count": 1,
          "output_type": "execute_result",
          "data": {
            "text/plain": "17"
          },
          "metadata": {}
        }
      ],
      "execution_count": 1
    },
    {
      "id": "6e35b8ce-f8e3-4672-a7b9-179ff2184125",
      "cell_type": "code",
      "source": "# Now we are going to convert 200 minutes into hours with this simple expression :\n200 / 60",
      "metadata": {
        "trusted": true
      },
      "outputs": [
        {
          "execution_count": 2,
          "output_type": "execute_result",
          "data": {
            "text/plain": "3.3333333333333335"
          },
          "metadata": {}
        }
      ],
      "execution_count": 2
    },
    {
      "id": "dd5c79e8-ca9d-475e-b761-f2ef3b5d0ecb",
      "cell_type": "markdown",
      "source": "## Author\nJacob Graves",
      "metadata": {}
    },
    {
      "id": "f0c8b56c-008b-4239-b386-b9f0b25cfa7e",
      "cell_type": "code",
      "source": "",
      "metadata": {
        "trusted": true
      },
      "outputs": [],
      "execution_count": null
    }
  ]
}